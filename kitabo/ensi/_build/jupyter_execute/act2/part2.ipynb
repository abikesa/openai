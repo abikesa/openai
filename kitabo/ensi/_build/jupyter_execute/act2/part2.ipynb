{
 "cells": [
  {
   "cell_type": "markdown",
   "metadata": {},
   "source": [
    "# Part 2\n",
    "Oh for a thousand toungues! Ah, now I see what you're getting at. You're expressing a desire or longing to know all the languages of the world so that you could share and understand the story of Jesus. In that case, a more fitting translation in Runyankore for this sentiment would be something like:\n",
    "\n",
    "<iframe width=\"560\" height=\"315\" src=\"https://www.youtube.com/embed/rMowp-2pshQ\" frameborder=\"0\" allow=\"accelerometer; autoplay; clipboard-write; encrypted-media; gyroscope; picture-in-picture\" allowfullscreen></iframe>\n",
    "\n",
    "\n",
    "**\"Nkabaasibwaki ninkweta kumanya endimizoona z'ensi, ngu mbashe kutegera no kwebembera eby'omushaha gwa Yesu!\"**\n",
    "\n",
    "This translates roughly as:\n",
    "\n",
    "**\"I wish I knew all the languages of the world so that I could understand and tell the story of Jesus!\"**\n",
    "\n",
    "It captures both the sense of longing and the spiritual motivation behind it."
   ]
  }
 ],
 "metadata": {
  "kernelspec": {
   "display_name": "Python 3",
   "language": "python",
   "name": "python3"
  },
  "language_info": {
   "codemirror_mode": {
    "name": "ipython",
    "version": 3
   },
   "file_extension": ".py",
   "mimetype": "text/x-python",
   "name": "python",
   "nbconvert_exporter": "python",
   "pygments_lexer": "ipython3",
   "version": "3.12.3"
  },
  "widgets": {
   "application/vnd.jupyter.widget-state+json": {
    "state": {},
    "version_major": 2,
    "version_minor": 0
   }
  }
 },
 "nbformat": 4,
 "nbformat_minor": 4
}