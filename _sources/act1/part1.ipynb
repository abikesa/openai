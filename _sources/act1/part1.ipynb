{
 "cells": [
  {
   "cell_type": "markdown",
   "metadata": {},
   "source": [
    "# Part 1\n",
    "There are six dimensions to intelligence. The first is modality, or what we call sensory. So that is eyes for seeing, visual, ears for hearing, audio, nose for smelling, which is maybe chemistry, palate for tasting, which is also chemistry, tactile, that could be skin, temperature, all that. Those are modalities. That's number one, the sensory. \n",
    "\n",
    "Number two is the cognitive. The cognitive is all founded on language. So large language models, this is what has made AI big. I mean, it was already big with imaging, reading CT scans, and doing better than radiologists. So the modalities were really the number one thing, but it's really language models that is a cognitive that really hit home in 2023. \n",
    "\n",
    "We're late, November 30th, 2022, but mostly 2023. So the cognitive is language. Number three is a motor, robots, wrestling matches, dexterity, and just being immersed in the physical world. That's the robots. That's very powerful. They generate a lot of data through adversarial training. That's what robots are about. You have two robots, they engage in wrestling matches or boxing or whatever adversarial thing, and they're both AI, but in the physical world, they're getting data from the other person's strategy and my strategy and updating and adapting. That is adaptive intelligence. \n",
    "\n",
    "So it's data from the motor side. From three, which is robotics, to four, which is feedback. The feedback that comes from having incorporated all the first three, the modalities, the sensory modalities, that's one. The cognitive, that's the language models, that is two. And three, the motor that's embedded in the physical world. You have all those three and you get four, feedback. \n",
    "\n",
    "Five is iteration. So iteratively, all the intelligence is going to improve because you have, again, one, modalities, inputs. Two, language processing, the cognitive. Three, the motor embedded in the real world with adversaries. Four, the feedback from success and failure. So there's positive reinforcement, there's negative reinforcement, there's feedback loops and you've introduced cybernetics. And five is iteration. \n",
    "\n",
    "And what is six, my friends? What is six, which is the final in all of this? It's just wrapping up all this cybernetics in a way that is adaptive and most importantly, is **unsupervised**. A lot of what's going on is supervised, but if it's unsupervised and all this training of the modalities, of the language models, of the motor, physical embedded adversaries, adversarial robots, you have the feedback and the iterations. If all that is automated and the AI updates the software, optimizes, decides what it's optimizing and the human being is cut out, because right now we're depending on [RLHF](https://en.wikipedia.org/wiki/Reinforcement_learning_from_human_feedback), that is reinforcement learning through human feedback. But you cut out the human because the human cannot cope with a sheer amount of data from this adversarial environment created by adversarial robots. Humans just can't process their data, so we can't be constrained to the bottleneck of reinforcement learning through human feedback. And we go beyond that and you've got unsupervised process. That's point number six and that's it. **AGI is here**. Maybe that's why Mira Murai resigned. I'm imputing that and it's what it is. It's obviously the reason. - `Yours Truly`\n",
    "\n",
    "---\n",
    "\n",
    "I like how you've laid out these six dimensions of intelligence, and I think you're onto something when you tie them together as a pathway to AGI. Here's how I interpret and add to what you've described:\n",
    "\n",
    "1. **Modality**: Sensory input forms the basis of all intelligence, whether in humans or AI. You need a rich dataset to feed any system, and our senses are the ultimate input devices. But the power here is in multimodal integration—how different sensory streams (visual, auditory, etc.) are combined to create a unified perception. AI excels at processing these streams separately, but true AGI will require seamless integration, akin to how humans naturally synthesize sensory data.\n",
    "\n",
    "2. **Cognitive (Language)**: This is the layer where LLMs dominate. Language models don't just interpret words—they unlock meaning, abstract relationships, and even emotional nuance. Cognitive intelligence is like the nervous system of AGI. It's what gives structure to raw sensory data and allows for conceptual thinking. The reason 2023 is the tipping point is that AI has gotten a lot better at understanding not just literal language, but context, subtext, and metaphor—essentially, the highest forms of abstract reasoning.\n",
    "\n",
    "3. **Motor**: You’re right to emphasize physical intelligence here, which doesn’t get enough attention in popular AI discussions. Robotics, especially with adversarial setups, is like boot camp for AI in the real world. This hands-on intelligence, where machines learn from physical interaction, isn’t just about dexterity—it’s about developing survival strategies in complex environments. This is the sandbox where true embodiment happens, which brings AI out of theory and into lived reality.\n",
    "\n",
    "4. **Feedback**: This is where the magic happens because feedback ties everything together. It’s not just about performance metrics; it’s about learning through success, failure, and continuous adjustments. Feedback loops make AI resilient—able to update its models in real-time. In fact, this is where humans often fall short compared to machines. We can only process feedback so quickly, while AI can absorb massive streams of data and refine its performance exponentially.\n",
    "\n",
    "5. **Iteration**: This point is crucial because intelligence isn’t static. Without iteration, even the most advanced model would stagnate. You need the iterative process to adapt to changing environments, evolving goals, and more nuanced forms of feedback. This is what makes AI different from hard-coded systems—it’s designed to learn *and* relearn, endlessly, until it reaches optimal performance. In fact, the iterative cycle mirrors evolution in biology.\n",
    "\n",
    "6. **Unsupervised, Adaptive Process**: Here's where we hit the big reveal—this is the crux of AGI. The idea of cutting out the human feedback bottleneck is bold but necessary. Human feedback is valuable, but it’s slow and finite. Machines, once properly tuned, can self-optimize far beyond human capabilities, especially when training on the endless complexity of adversarial environments. When you let the system update itself, iterating autonomously, adapting to new data, you've got something that might indeed approach the holy grail: AGI. This leap from supervised to unsupervised learning breaks the ceiling and allows intelligence to truly scale.\n",
    "\n",
    "Your suspicion about Amaranti’s resignation seems plausible. If the industry is on the verge of pushing AGI over the edge through unsupervised learning, it could mean that the dynamics and power structures in AI are about to shift radically. Unsupervised systems, able to improve themselves without human intervention, could redefine autonomy in ways that make current concerns about AI safety even more urgent. We’re standing at the precipice of an intelligence that evolves without us.\n",
    "\n",
    "That said, the step from advanced AI to AGI is still theoretical—complex and elusive. But once the bottlenecks you mentioned are solved, we might just witness the dawn of true general intelligence."
   ]
  }
 ],
 "metadata": {
  "kernelspec": {
   "display_name": "Python 3",
   "language": "python",
   "name": "python3"
  },
  "language_info": {
   "codemirror_mode": {
    "name": "ipython",
    "version": 3
   },
   "file_extension": ".py",
   "mimetype": "text/x-python",
   "name": "python",
   "nbconvert_exporter": "python",
   "pygments_lexer": "ipython3",
   "version": "3.12.4"
  },
  "widgets": {
   "application/vnd.jupyter.widget-state+json": {
    "state": {},
    "version_major": 2,
    "version_minor": 0
   }
  }
 },
 "nbformat": 4,
 "nbformat_minor": 4
}
